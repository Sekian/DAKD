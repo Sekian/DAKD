{
 "cells": [
  {
   "cell_type": "code",
   "execution_count": 1,
   "metadata": {},
   "outputs": [],
   "source": [
    "import numpy as np\n",
    "import pandas as pd\n",
    "import matplotlib\n",
    "import matplotlib.pyplot as plt\n",
    "import seaborn as sns\n",
    "import math\n",
    "from statistics import *\n",
    "from math import *\n",
    "\n",
    "from sklearn.decomposition import PCA\n",
    "from sklearn import decomposition\n",
    "from sklearn import datasets\n",
    "from sklearn.preprocessing import StandardScaler\n",
    "import sklearn.model_selection as cv\n",
    "np.set_printoptions(suppress=True)"
   ]
  },
  {
   "cell_type": "code",
   "execution_count": 2,
   "metadata": {},
   "outputs": [],
   "source": [
    "steam = pd.read_csv(\"./steam-clean.csv\")\n",
    "df = steam\n",
    "#df = df[(df.positive_ratings > 100) & (df.negative_ratings > 100)]\n",
    "df = df[(df.owners > 20000)]\n",
    "df = df[df.price <= 60]\n",
    "df.drop(['score','median_playtime','windows','total_ratings'], axis=1,inplace=True)\n",
    "df.to_csv('steam-clean-r.csv', index = False)"
   ]
  },
  {
   "cell_type": "code",
   "execution_count": 3,
   "metadata": {},
   "outputs": [
    {
     "name": "stdout",
     "output_type": "stream",
     "text": [
      "0.000000     0.32\n",
      "0.333333     3.99\n",
      "0.666667     8.99\n",
      "1.000000    54.99\n",
      "Name: price, dtype: float64\n"
     ]
    },
    {
     "data": {
      "text/plain": [
       "11       Free\n",
       "14       Free\n",
       "15       Free\n",
       "19       Free\n",
       "22       Free\n",
       "         ... \n",
       "22859    Free\n",
       "22862    Free\n",
       "22876    Free\n",
       "22880    Free\n",
       "22907    Free\n",
       "Name: price_range, Length: 1430, dtype: category\n",
       "Categories (4, object): [Free < Cheap < Midrange < Expensive]"
      ]
     },
     "execution_count": 3,
     "metadata": {},
     "output_type": "execute_result"
    }
   ],
   "source": [
    "#df['price'].quantile([1/3,2/3,1.])\n",
    "df['price_range'] = pd.qcut(df[df.price != 0]['price'], [0., 1/3, 2/3, 1.],labels=['Cheap', 'Midrange', 'Expensive'], retbins=True)[0]\n",
    "#df['price_range'] = pd.cut(df[df.price != 0]['price'], [0,10,20,np.inf],labels=['Cheap', 'Midrange', 'Expensive'], retbins=True)[0]\n",
    "df['price_range'].value_counts()\n",
    "print(df[df.price != 0]['price'].quantile([0,1/3,2/3,1]))\n",
    "\n",
    "df['price_range'].cat.add_categories('Free',inplace=True)\n",
    "df['price_range'].cat.reorder_categories(['Free','Cheap', 'Midrange', 'Expensive'],inplace=True)\n",
    "df.loc[df.price == 0, 'price_range'] = 'Free'\n",
    "df[df.price == 0]['price_range']\n",
    "df.loc[df.price == 0,'price_range']"
   ]
  },
  {
   "cell_type": "code",
   "execution_count": 4,
   "metadata": {},
   "outputs": [
    {
     "data": {
      "text/plain": [
       "Cheap        2547\n",
       "Expensive    2244\n",
       "Midrange     2108\n",
       "Free         1430\n",
       "Name: price_range, dtype: int64"
      ]
     },
     "execution_count": 4,
     "metadata": {},
     "output_type": "execute_result"
    }
   ],
   "source": [
    "df['price_range'].value_counts()"
   ]
  },
  {
   "cell_type": "code",
   "execution_count": 5,
   "metadata": {},
   "outputs": [],
   "source": [
    "X = df.drop(['price_range', 'price'],axis=1).select_dtypes(include='number')\n",
    "y = df.price_range\n",
    "\n",
    "(X_train, X_test, y_train, y_test) = cv.train_test_split(X, y, test_size=.20, random_state=1)\n",
    "\n",
    "training = X_train.join(y_train)\n",
    "testing = X_test.join(y_test)"
   ]
  },
  {
   "cell_type": "code",
   "execution_count": 6,
   "metadata": {},
   "outputs": [],
   "source": [
    "from sklearn.model_selection import cross_val_predict\n",
    "from sklearn.model_selection import cross_val_score\n",
    "from sklearn.ensemble import AdaBoostClassifier\n",
    "from sklearn.tree import DecisionTreeClassifier\n",
    "from sklearn.ensemble import RandomForestClassifier\n",
    "from sklearn import metrics\n",
    "#base_clf = RandomForestClassifier(n_estimators=100)\n",
    "#clf = AdaBoostClassifier(base_estimator=base_clf, n_estimators=1,random_state=0)\n",
    "clf = RandomForestClassifier(n_estimators=100,random_state=1).fit(X_train,y_train)\n",
    "y_pred = cross_val_predict(clf, X=X_train, y=y_train, cv=5)\n",
    "#precision, recall, fscore, _ = metrics.precision_recall_fscore_support(y_train, y_pred)"
   ]
  },
  {
   "cell_type": "code",
   "execution_count": 7,
   "metadata": {},
   "outputs": [
    {
     "name": "stdout",
     "output_type": "stream",
     "text": [
      "              precision    recall  f1-score   support\n",
      "\n",
      "       Cheap       0.68      0.73      0.70      2068\n",
      "   Expensive       0.68      0.73      0.70      1810\n",
      "        Free       0.98      0.83      0.90      1121\n",
      "    Midrange       0.51      0.48      0.50      1664\n",
      "\n",
      "    accuracy                           0.68      6663\n",
      "   macro avg       0.71      0.69      0.70      6663\n",
      "weighted avg       0.69      0.68      0.69      6663\n",
      "\n"
     ]
    }
   ],
   "source": [
    "metrics.confusion_matrix(y_train, y_pred)\n",
    "print(metrics.classification_report(y_train, y_pred))"
   ]
  },
  {
   "cell_type": "code",
   "execution_count": 8,
   "metadata": {},
   "outputs": [
    {
     "data": {
      "text/plain": [
       "0.6840762419330632"
      ]
     },
     "execution_count": 8,
     "metadata": {},
     "output_type": "execute_result"
    }
   ],
   "source": [
    "metrics.accuracy_score(y_train, y_pred, normalize=True, sample_weight=None)"
   ]
  },
  {
   "cell_type": "code",
   "execution_count": 9,
   "metadata": {},
   "outputs": [
    {
     "name": "stdout",
     "output_type": "stream",
     "text": [
      "              precision    recall  f1-score   support\n",
      "\n",
      "       Cheap       0.65      0.78      0.71       479\n",
      "   Expensive       0.71      0.78      0.74       434\n",
      "        Free       0.98      0.83      0.90       309\n",
      "    Midrange       0.61      0.49      0.54       444\n",
      "\n",
      "    accuracy                           0.71      1666\n",
      "   macro avg       0.74      0.72      0.72      1666\n",
      "weighted avg       0.71      0.71      0.71      1666\n",
      "\n"
     ]
    }
   ],
   "source": [
    "from sklearn.ensemble import BaggingClassifier\n",
    "from sklearn.neighbors import KNeighborsClassifier\n",
    "from sklearn import preprocessing\n",
    "from sklearn.ensemble import ExtraTreesClassifier\n",
    "base_clf = RandomForestClassifier(n_estimators=100)\n",
    "#base_clf = DecisionTreeClassifier()\n",
    "#base_clf = KNeighborsClassifier(weights='distance')\n",
    "#X_scaled = preprocessing.MinMaxScaler().fit_transform(X_train)\n",
    "#base_clf = ExtraTreesClassifier(n_estimators=300)\n",
    "#clf = AdaBoostClassifier(base_estimator=base_clf, n_estimators=10,random_state=0).fit(X_train,y_train)\n",
    "clf = RandomForestClassifier(n_estimators=100, random_state=1).fit(X_train,y_train)\n",
    "\n",
    "#X_scaled = preprocessing.MinMaxScaler().fit_transform(X_test)\n",
    "y_pred = clf.predict(X_test)\n",
    "metrics.confusion_matrix(y_test, y_pred)\n",
    "print (metrics.classification_report(y_test, y_pred))"
   ]
  },
  {
   "cell_type": "code",
   "execution_count": 10,
   "metadata": {},
   "outputs": [
    {
     "data": {
      "text/plain": [
       "0.709483793517407"
      ]
     },
     "execution_count": 10,
     "metadata": {},
     "output_type": "execute_result"
    }
   ],
   "source": [
    "metrics.accuracy_score(y_test, y_pred)"
   ]
  },
  {
   "cell_type": "code",
   "execution_count": 11,
   "metadata": {},
   "outputs": [],
   "source": [
    "#df.loc[df.price == 0, 'price_range'] = 'Free'\n",
    "#df.loc[df.price != 0, 'price_range'] = 'Paid'\n",
    "#df['price_range'].value_counts()"
   ]
  },
  {
   "cell_type": "code",
   "execution_count": 12,
   "metadata": {},
   "outputs": [],
   "source": [
    "#try other classifiers and predictors and compare them in the report"
   ]
  },
  {
   "cell_type": "code",
   "execution_count": 13,
   "metadata": {},
   "outputs": [
    {
     "data": {
      "image/png": "[encoded data removed]",
      "text/plain": [
       "<Figure size 432x288 with 1 Axes>"
      ]
     },
     "metadata": {
      "needs_background": "light"
     },
     "output_type": "display_data"
    }
   ],
   "source": [
    "pred = pd.DataFrame()\n",
    "pred['y_test']=y_test\n",
    "pred['y_pred']=y_pred\n",
    "sns.countplot(x=\"value\", hue=\"variable\", data=pd.melt(pred))\n",
    "#plt.show()\n",
    "#pd.Series(y_pred).value_counts()\n",
    "plt.tight_layout()\n",
    "plt.savefig('images/ypred-ytest-clf.pdf', bbox_inches='tight')"
   ]
  },
  {
   "cell_type": "code",
   "execution_count": 14,
   "metadata": {},
   "outputs": [
    {
     "data": {
      "text/plain": [
       "Cheap        0.305799\n",
       "Expensive    0.269420\n",
       "Midrange     0.253092\n",
       "Free         0.171689\n",
       "Name: price_range, dtype: float64"
      ]
     },
     "execution_count": 14,
     "metadata": {},
     "output_type": "execute_result"
    }
   ],
   "source": [
    "df['price_range'].value_counts()/df['price_range'].value_counts().sum()"
   ]
  },
  {
   "cell_type": "code",
   "execution_count": 15,
   "metadata": {},
   "outputs": [],
   "source": [
    "#Regression with price\n",
    "X = df.drop(['price'],axis=1)\n",
    "y = df.price\n",
    "(X_train, X_test, y_train, y_test) = cv.train_test_split(X, y, test_size=.20, random_state=1)\n",
    "#training = X_train.join(y_train)\n",
    "#testing = X_test.join(y_test)"
   ]
  },
  {
   "cell_type": "code",
   "execution_count": 16,
   "metadata": {},
   "outputs": [
    {
     "data": {
      "text/plain": [
       "0.6151549563773666"
      ]
     },
     "execution_count": 16,
     "metadata": {},
     "output_type": "execute_result"
    }
   ],
   "source": [
    "from sklearn.linear_model import LinearRegression\n",
    "from sklearn.ensemble import RandomForestRegressor\n",
    "from sklearn.ensemble import AdaBoostRegressor\n",
    "from sklearn import metrics\n",
    "from sklearn.svm import SVR\n",
    "#regressor = RandomForestRegressor()\n",
    "regressor = RandomForestRegressor(100, random_state=1)\n",
    "#regressor = SVR()\n",
    "regressor.fit(X_train.select_dtypes(include='number'), y_train)\n",
    "\n",
    "y_pred = regressor.predict(X_test.select_dtypes(include='number'))\n",
    "metrics.r2_score(y_test, y_pred)"
   ]
  },
  {
   "cell_type": "code",
   "execution_count": 17,
   "metadata": {},
   "outputs": [
    {
     "name": "stdout",
     "output_type": "stream",
     "text": [
      "Mean Absolute Error: 3.06880006002401\n",
      "Mean Squared Error: 24.616897339249697\n",
      "Root Mean Squared Error: 4.961541830847514\n"
     ]
    },
    {
     "data": {
      "text/plain": [
       "0.6151549563773666"
      ]
     },
     "execution_count": 17,
     "metadata": {},
     "output_type": "execute_result"
    }
   ],
   "source": [
    "print('Mean Absolute Error:', metrics.mean_absolute_error(y_test, y_pred))  \n",
    "print('Mean Squared Error:', metrics.mean_squared_error(y_test, y_pred))  \n",
    "print('Root Mean Squared Error:', np.sqrt(metrics.mean_squared_error(y_test, y_pred)))\n",
    "regressor.score(X_test.select_dtypes(include='number'), y_test)"
   ]
  },
  {
   "cell_type": "code",
   "execution_count": 18,
   "metadata": {},
   "outputs": [
    {
     "data": {
      "image/png": "[encoded data removed]",
      "text/plain": [
       "<Figure size 432x288 with 1 Axes>"
      ]
     },
     "metadata": {
      "needs_background": "light"
     },
     "output_type": "display_data"
    }
   ],
   "source": [
    "plt.scatter(y_test, y_pred,  color='gray')\n",
    "sns.regplot(x=y_test,y=y_pred, scatter_kws={\"color\": \"black\",'alpha':0.3}, line_kws={\"color\": \"red\"})\n",
    "#abline(regressor.coef_, regressor.intercept_)\n",
    "#plt.plot(y_test, y_pred, color='red', linewidth=2)\n",
    "plt.xlabel('real price')\n",
    "plt.ylabel('predicted price')\n",
    "plt.savefig('images/ypred-ytest-reg.pdf', bbox_inches='tight')"
   ]
  },
  {
   "cell_type": "code",
   "execution_count": null,
   "metadata": {},
   "outputs": [],
   "source": []
  }
 ],
 "metadata": {
  "kernelspec": {
   "display_name": "Python 3",
   "language": "python",
   "name": "python3"
  },
  "language_info": {
   "codemirror_mode": {
    "name": "ipython",
    "version": 3
   },
   "file_extension": ".py",
   "mimetype": "text/x-python",
   "name": "python",
   "nbconvert_exporter": "python",
   "pygments_lexer": "ipython3",
   "version": "3.6.5"
  }
 },
 "nbformat": 4,
 "nbformat_minor": 2
}
