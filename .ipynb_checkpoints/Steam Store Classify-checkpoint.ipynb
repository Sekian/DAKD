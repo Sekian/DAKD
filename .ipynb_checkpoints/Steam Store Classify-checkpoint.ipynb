{
 "cells": [
  {
   "cell_type": "code",
   "execution_count": 1,
   "metadata": {},
   "outputs": [],
   "source": [
    "import numpy as np\n",
    "import pandas as pd\n",
    "import matplotlib\n",
    "import matplotlib.pyplot as plt\n",
    "import seaborn as sns\n",
    "import math\n",
    "from statistics import *\n",
    "from math import *\n",
    "\n",
    "from sklearn.decomposition import PCA\n",
    "from sklearn import decomposition\n",
    "from sklearn import datasets\n",
    "from sklearn.preprocessing import StandardScaler\n",
    "import sklearn.model_selection as cv\n",
    "np.set_printoptions(suppress=True)"
   ]
  },
  {
   "cell_type": "code",
   "execution_count": 2,
   "metadata": {},
   "outputs": [
    {
     "data": {
      "text/html": [
       "<div>\n",
       "<style scoped>\n",
       "    .dataframe tbody tr th:only-of-type {\n",
       "        vertical-align: middle;\n",
       "    }\n",
       "\n",
       "    .dataframe tbody tr th {\n",
       "        vertical-align: top;\n",
       "    }\n",
       "\n",
       "    .dataframe thead th {\n",
       "        text-align: right;\n",
       "    }\n",
       "</style>\n",
       "<table border=\"1\" class=\"dataframe\">\n",
       "  <thead>\n",
       "    <tr style=\"text-align: right;\">\n",
       "      <th></th>\n",
       "      <th>name</th>\n",
       "      <th>release_date</th>\n",
       "      <th>developer</th>\n",
       "      <th>publisher</th>\n",
       "      <th>required_age</th>\n",
       "      <th>achievements</th>\n",
       "      <th>positive_ratings</th>\n",
       "      <th>negative_ratings</th>\n",
       "      <th>average_playtime</th>\n",
       "      <th>owners</th>\n",
       "      <th>...</th>\n",
       "      <th>Simulation</th>\n",
       "      <th>RPG</th>\n",
       "      <th>Alpha</th>\n",
       "      <th>F2P</th>\n",
       "      <th>Sports</th>\n",
       "      <th>Racing</th>\n",
       "      <th>Violent</th>\n",
       "      <th>MMO</th>\n",
       "      <th>Gore</th>\n",
       "      <th>Nudity</th>\n",
       "    </tr>\n",
       "  </thead>\n",
       "  <tbody>\n",
       "    <tr>\n",
       "      <th>0</th>\n",
       "      <td>Counter-Strike</td>\n",
       "      <td>2000-11-01</td>\n",
       "      <td>Valve</td>\n",
       "      <td>Valve</td>\n",
       "      <td>0</td>\n",
       "      <td>0</td>\n",
       "      <td>124534</td>\n",
       "      <td>3339</td>\n",
       "      <td>17612</td>\n",
       "      <td>20000000</td>\n",
       "      <td>...</td>\n",
       "      <td>0</td>\n",
       "      <td>0</td>\n",
       "      <td>0</td>\n",
       "      <td>0</td>\n",
       "      <td>0</td>\n",
       "      <td>0</td>\n",
       "      <td>0</td>\n",
       "      <td>0</td>\n",
       "      <td>0</td>\n",
       "      <td>0</td>\n",
       "    </tr>\n",
       "    <tr>\n",
       "      <th>1</th>\n",
       "      <td>Team Fortress Classic</td>\n",
       "      <td>1999-04-01</td>\n",
       "      <td>Valve</td>\n",
       "      <td>Valve</td>\n",
       "      <td>0</td>\n",
       "      <td>0</td>\n",
       "      <td>3318</td>\n",
       "      <td>633</td>\n",
       "      <td>277</td>\n",
       "      <td>10000000</td>\n",
       "      <td>...</td>\n",
       "      <td>0</td>\n",
       "      <td>0</td>\n",
       "      <td>0</td>\n",
       "      <td>0</td>\n",
       "      <td>0</td>\n",
       "      <td>0</td>\n",
       "      <td>0</td>\n",
       "      <td>0</td>\n",
       "      <td>0</td>\n",
       "      <td>0</td>\n",
       "    </tr>\n",
       "    <tr>\n",
       "      <th>2</th>\n",
       "      <td>Day of Defeat</td>\n",
       "      <td>2003-05-01</td>\n",
       "      <td>Valve</td>\n",
       "      <td>Valve</td>\n",
       "      <td>0</td>\n",
       "      <td>0</td>\n",
       "      <td>3416</td>\n",
       "      <td>398</td>\n",
       "      <td>187</td>\n",
       "      <td>10000000</td>\n",
       "      <td>...</td>\n",
       "      <td>0</td>\n",
       "      <td>0</td>\n",
       "      <td>0</td>\n",
       "      <td>0</td>\n",
       "      <td>0</td>\n",
       "      <td>0</td>\n",
       "      <td>0</td>\n",
       "      <td>0</td>\n",
       "      <td>0</td>\n",
       "      <td>0</td>\n",
       "    </tr>\n",
       "    <tr>\n",
       "      <th>3</th>\n",
       "      <td>Deathmatch Classic</td>\n",
       "      <td>2001-06-01</td>\n",
       "      <td>Valve</td>\n",
       "      <td>Valve</td>\n",
       "      <td>0</td>\n",
       "      <td>0</td>\n",
       "      <td>1273</td>\n",
       "      <td>267</td>\n",
       "      <td>258</td>\n",
       "      <td>10000000</td>\n",
       "      <td>...</td>\n",
       "      <td>0</td>\n",
       "      <td>0</td>\n",
       "      <td>0</td>\n",
       "      <td>0</td>\n",
       "      <td>0</td>\n",
       "      <td>0</td>\n",
       "      <td>0</td>\n",
       "      <td>0</td>\n",
       "      <td>0</td>\n",
       "      <td>0</td>\n",
       "    </tr>\n",
       "    <tr>\n",
       "      <th>4</th>\n",
       "      <td>Half-Life: Opposing Force</td>\n",
       "      <td>1999-11-01</td>\n",
       "      <td>Gearbox Software</td>\n",
       "      <td>Valve</td>\n",
       "      <td>0</td>\n",
       "      <td>0</td>\n",
       "      <td>5250</td>\n",
       "      <td>288</td>\n",
       "      <td>624</td>\n",
       "      <td>10000000</td>\n",
       "      <td>...</td>\n",
       "      <td>0</td>\n",
       "      <td>0</td>\n",
       "      <td>0</td>\n",
       "      <td>0</td>\n",
       "      <td>0</td>\n",
       "      <td>0</td>\n",
       "      <td>0</td>\n",
       "      <td>0</td>\n",
       "      <td>0</td>\n",
       "      <td>0</td>\n",
       "    </tr>\n",
       "    <tr>\n",
       "      <th>...</th>\n",
       "      <td>...</td>\n",
       "      <td>...</td>\n",
       "      <td>...</td>\n",
       "      <td>...</td>\n",
       "      <td>...</td>\n",
       "      <td>...</td>\n",
       "      <td>...</td>\n",
       "      <td>...</td>\n",
       "      <td>...</td>\n",
       "      <td>...</td>\n",
       "      <td>...</td>\n",
       "      <td>...</td>\n",
       "      <td>...</td>\n",
       "      <td>...</td>\n",
       "      <td>...</td>\n",
       "      <td>...</td>\n",
       "      <td>...</td>\n",
       "      <td>...</td>\n",
       "      <td>...</td>\n",
       "      <td>...</td>\n",
       "      <td>...</td>\n",
       "    </tr>\n",
       "    <tr>\n",
       "      <th>22859</th>\n",
       "      <td>BLOCKADE Classic</td>\n",
       "      <td>2019-04-01</td>\n",
       "      <td>Novalink</td>\n",
       "      <td>Novalink</td>\n",
       "      <td>0</td>\n",
       "      <td>0</td>\n",
       "      <td>256</td>\n",
       "      <td>141</td>\n",
       "      <td>0</td>\n",
       "      <td>200000</td>\n",
       "      <td>...</td>\n",
       "      <td>0</td>\n",
       "      <td>0</td>\n",
       "      <td>1</td>\n",
       "      <td>1</td>\n",
       "      <td>0</td>\n",
       "      <td>0</td>\n",
       "      <td>0</td>\n",
       "      <td>1</td>\n",
       "      <td>0</td>\n",
       "      <td>0</td>\n",
       "    </tr>\n",
       "    <tr>\n",
       "      <th>22862</th>\n",
       "      <td>Arena Stars</td>\n",
       "      <td>2019-04-11</td>\n",
       "      <td>Tiny Titan Studios</td>\n",
       "      <td>Tiny Titan Studios</td>\n",
       "      <td>0</td>\n",
       "      <td>15</td>\n",
       "      <td>52</td>\n",
       "      <td>29</td>\n",
       "      <td>0</td>\n",
       "      <td>50000</td>\n",
       "      <td>...</td>\n",
       "      <td>0</td>\n",
       "      <td>0</td>\n",
       "      <td>0</td>\n",
       "      <td>1</td>\n",
       "      <td>0</td>\n",
       "      <td>0</td>\n",
       "      <td>0</td>\n",
       "      <td>0</td>\n",
       "      <td>0</td>\n",
       "      <td>0</td>\n",
       "    </tr>\n",
       "    <tr>\n",
       "      <th>22876</th>\n",
       "      <td>Burning Daylight</td>\n",
       "      <td>2019-04-19</td>\n",
       "      <td>Burning Daylight Team</td>\n",
       "      <td>Burning Daylight Team</td>\n",
       "      <td>0</td>\n",
       "      <td>0</td>\n",
       "      <td>689</td>\n",
       "      <td>78</td>\n",
       "      <td>0</td>\n",
       "      <td>100000</td>\n",
       "      <td>...</td>\n",
       "      <td>0</td>\n",
       "      <td>0</td>\n",
       "      <td>0</td>\n",
       "      <td>1</td>\n",
       "      <td>0</td>\n",
       "      <td>0</td>\n",
       "      <td>0</td>\n",
       "      <td>0</td>\n",
       "      <td>0</td>\n",
       "      <td>0</td>\n",
       "    </tr>\n",
       "    <tr>\n",
       "      <th>22880</th>\n",
       "      <td>KillStreak.tv</td>\n",
       "      <td>2019-04-11</td>\n",
       "      <td>SideQuestNZ</td>\n",
       "      <td>Blue Wizard Digital</td>\n",
       "      <td>0</td>\n",
       "      <td>0</td>\n",
       "      <td>74</td>\n",
       "      <td>20</td>\n",
       "      <td>0</td>\n",
       "      <td>50000</td>\n",
       "      <td>...</td>\n",
       "      <td>0</td>\n",
       "      <td>0</td>\n",
       "      <td>0</td>\n",
       "      <td>1</td>\n",
       "      <td>0</td>\n",
       "      <td>0</td>\n",
       "      <td>0</td>\n",
       "      <td>0</td>\n",
       "      <td>0</td>\n",
       "      <td>0</td>\n",
       "    </tr>\n",
       "    <tr>\n",
       "      <th>22907</th>\n",
       "      <td>Sin Slayers: The First Sin</td>\n",
       "      <td>2019-04-11</td>\n",
       "      <td>goonswarm</td>\n",
       "      <td>Black Tower Entertainment</td>\n",
       "      <td>0</td>\n",
       "      <td>0</td>\n",
       "      <td>101</td>\n",
       "      <td>29</td>\n",
       "      <td>0</td>\n",
       "      <td>50000</td>\n",
       "      <td>...</td>\n",
       "      <td>0</td>\n",
       "      <td>1</td>\n",
       "      <td>0</td>\n",
       "      <td>1</td>\n",
       "      <td>0</td>\n",
       "      <td>0</td>\n",
       "      <td>0</td>\n",
       "      <td>0</td>\n",
       "      <td>0</td>\n",
       "      <td>0</td>\n",
       "    </tr>\n",
       "  </tbody>\n",
       "</table>\n",
       "<p>8329 rows × 29 columns</p>\n",
       "</div>"
      ],
      "text/plain": [
       "                             name release_date              developer  \\\n",
       "0                  Counter-Strike   2000-11-01                  Valve   \n",
       "1           Team Fortress Classic   1999-04-01                  Valve   \n",
       "2                   Day of Defeat   2003-05-01                  Valve   \n",
       "3              Deathmatch Classic   2001-06-01                  Valve   \n",
       "4       Half-Life: Opposing Force   1999-11-01       Gearbox Software   \n",
       "...                           ...          ...                    ...   \n",
       "22859            BLOCKADE Classic   2019-04-01               Novalink   \n",
       "22862                 Arena Stars   2019-04-11     Tiny Titan Studios   \n",
       "22876            Burning Daylight   2019-04-19  Burning Daylight Team   \n",
       "22880               KillStreak.tv   2019-04-11            SideQuestNZ   \n",
       "22907  Sin Slayers: The First Sin   2019-04-11              goonswarm   \n",
       "\n",
       "                       publisher  required_age  achievements  \\\n",
       "0                          Valve             0             0   \n",
       "1                          Valve             0             0   \n",
       "2                          Valve             0             0   \n",
       "3                          Valve             0             0   \n",
       "4                          Valve             0             0   \n",
       "...                          ...           ...           ...   \n",
       "22859                   Novalink             0             0   \n",
       "22862         Tiny Titan Studios             0            15   \n",
       "22876      Burning Daylight Team             0             0   \n",
       "22880        Blue Wizard Digital             0             0   \n",
       "22907  Black Tower Entertainment             0             0   \n",
       "\n",
       "       positive_ratings  negative_ratings  average_playtime    owners  ...  \\\n",
       "0                124534              3339             17612  20000000  ...   \n",
       "1                  3318               633               277  10000000  ...   \n",
       "2                  3416               398               187  10000000  ...   \n",
       "3                  1273               267               258  10000000  ...   \n",
       "4                  5250               288               624  10000000  ...   \n",
       "...                 ...               ...               ...       ...  ...   \n",
       "22859               256               141                 0    200000  ...   \n",
       "22862                52                29                 0     50000  ...   \n",
       "22876               689                78                 0    100000  ...   \n",
       "22880                74                20                 0     50000  ...   \n",
       "22907               101                29                 0     50000  ...   \n",
       "\n",
       "       Simulation  RPG  Alpha  F2P  Sports  Racing  Violent  MMO  Gore  Nudity  \n",
       "0               0    0      0    0       0       0        0    0     0       0  \n",
       "1               0    0      0    0       0       0        0    0     0       0  \n",
       "2               0    0      0    0       0       0        0    0     0       0  \n",
       "3               0    0      0    0       0       0        0    0     0       0  \n",
       "4               0    0      0    0       0       0        0    0     0       0  \n",
       "...           ...  ...    ...  ...     ...     ...      ...  ...   ...     ...  \n",
       "22859           0    0      1    1       0       0        0    1     0       0  \n",
       "22862           0    0      0    1       0       0        0    0     0       0  \n",
       "22876           0    0      0    1       0       0        0    0     0       0  \n",
       "22880           0    0      0    1       0       0        0    0     0       0  \n",
       "22907           0    1      0    1       0       0        0    0     0       0  \n",
       "\n",
       "[8329 rows x 29 columns]"
      ]
     },
     "execution_count": 2,
     "metadata": {},
     "output_type": "execute_result"
    }
   ],
   "source": [
    "steam = pd.read_csv(\"./steam-clean.csv\")\n",
    "df = steam\n",
    "#df = df[(df.positive_ratings > 100) & (df.negative_ratings > 100)]\n",
    "df = df[(df.owners > 20000)]\n",
    "df = df[df.price <= 60]\n",
    "df.drop(['score','median_playtime','appid','windows','total_ratings'], axis=1)"
   ]
  },
  {
   "cell_type": "code",
   "execution_count": 3,
   "metadata": {},
   "outputs": [
    {
     "data": {
      "text/plain": [
       "['appid',\n",
       " 'name',\n",
       " 'release_date',\n",
       " 'developer',\n",
       " 'publisher',\n",
       " 'required_age',\n",
       " 'achievements',\n",
       " 'positive_ratings',\n",
       " 'negative_ratings',\n",
       " 'average_playtime',\n",
       " 'median_playtime',\n",
       " 'owners',\n",
       " 'price',\n",
       " 'total_ratings',\n",
       " 'score',\n",
       " 'release_year',\n",
       " 'diff_ratings',\n",
       " 'linux',\n",
       " 'mac',\n",
       " 'windows',\n",
       " 'Indie',\n",
       " 'Action',\n",
       " 'Casual',\n",
       " 'Adventure',\n",
       " 'Strategy',\n",
       " 'Simulation',\n",
       " 'RPG',\n",
       " 'Alpha',\n",
       " 'F2P',\n",
       " 'Sports',\n",
       " 'Racing',\n",
       " 'Violent',\n",
       " 'MMO',\n",
       " 'Gore',\n",
       " 'price_range']"
      ]
     },
     "execution_count": 3,
     "metadata": {},
     "output_type": "execute_result"
    }
   ],
   "source": [
    "['appid', 'name', 'release_date', 'developer', 'publisher',\n",
    "       'required_age', 'achievements', 'positive_ratings', 'negative_ratings',\n",
    "       'average_playtime', 'median_playtime', 'owners', 'price',\n",
    "       'total_ratings', 'score', 'release_year', 'diff_ratings', 'linux',\n",
    "       'mac', 'windows', 'Indie', 'Action', 'Casual', 'Adventure', 'Strategy',\n",
    "       'Simulation', 'RPG', 'Alpha', 'F2P', 'Sports', 'Racing', 'Violent',\n",
    "       'MMO', 'Gore', 'price_range']"
   ]
  },
  {
   "cell_type": "code",
   "execution_count": 4,
   "metadata": {},
   "outputs": [
    {
     "name": "stdout",
     "output_type": "stream",
     "text": [
      "0.000000     0.32\n",
      "0.333333     3.99\n",
      "0.666667     8.99\n",
      "1.000000    54.99\n",
      "Name: price, dtype: float64\n"
     ]
    },
    {
     "data": {
      "text/plain": [
       "11       Free\n",
       "14       Free\n",
       "15       Free\n",
       "19       Free\n",
       "22       Free\n",
       "         ... \n",
       "22859    Free\n",
       "22862    Free\n",
       "22876    Free\n",
       "22880    Free\n",
       "22907    Free\n",
       "Name: price_range, Length: 1430, dtype: category\n",
       "Categories (4, object): [Free < Cheap < Midrange < Expensive]"
      ]
     },
     "execution_count": 4,
     "metadata": {},
     "output_type": "execute_result"
    }
   ],
   "source": [
    "#df['price'].quantile([1/3,2/3,1.])\n",
    "df['price_range'] = pd.qcut(df[df.price != 0]['price'], [0., 1/3, 2/3, 1.],labels=['Cheap', 'Midrange', 'Expensive'], retbins=True)[0]\n",
    "#df['price_range'] = pd.cut(df[df.price != 0]['price'], [0,10,20,np.inf],labels=['Cheap', 'Midrange', 'Expensive'], retbins=True)[0]\n",
    "df['price_range'].value_counts()\n",
    "print(df[df.price != 0]['price'].quantile([0,1/3,2/3,1]))\n",
    "\n",
    "df['price_range'].cat.add_categories('Free',inplace=True)\n",
    "df['price_range'].cat.reorder_categories(['Free','Cheap', 'Midrange', 'Expensive'],inplace=True)\n",
    "df.loc[df.price == 0, 'price_range'] = 'Free'\n",
    "df[df.price == 0]['price_range']\n",
    "df.loc[df.price == 0,'price_range']"
   ]
  },
  {
   "cell_type": "code",
   "execution_count": 5,
   "metadata": {},
   "outputs": [
    {
     "data": {
      "text/plain": [
       "Cheap        2547\n",
       "Expensive    2244\n",
       "Midrange     2108\n",
       "Free         1430\n",
       "Name: price_range, dtype: int64"
      ]
     },
     "execution_count": 5,
     "metadata": {},
     "output_type": "execute_result"
    }
   ],
   "source": [
    "df['price_range'].value_counts()"
   ]
  },
  {
   "cell_type": "code",
   "execution_count": 6,
   "metadata": {},
   "outputs": [],
   "source": [
    "X = df.drop(['price_range', 'price'],axis=1).select_dtypes(include='number')\n",
    "y = df.price_range\n",
    "\n",
    "(X_train, X_test, y_train, y_test) = cv.train_test_split(X, y, test_size=.20, random_state=1)\n",
    "\n",
    "training = X_train.join(y_train)\n",
    "testing = X_test.join(y_test)"
   ]
  },
  {
   "cell_type": "code",
   "execution_count": 7,
   "metadata": {},
   "outputs": [],
   "source": [
    "from sklearn.model_selection import cross_val_predict\n",
    "from sklearn.model_selection import cross_val_score\n",
    "from sklearn.ensemble import AdaBoostClassifier\n",
    "from sklearn.tree import DecisionTreeClassifier\n",
    "from sklearn.ensemble import RandomForestClassifier\n",
    "from sklearn import metrics\n",
    "#base_clf = RandomForestClassifier(n_estimators=100)\n",
    "#clf = AdaBoostClassifier(base_estimator=base_clf, n_estimators=1,random_state=0)\n",
    "clf = RandomForestClassifier(n_estimators=100,random_state=1).fit(X_train,y_train)\n",
    "y_pred = cross_val_predict(clf, X=X_train, y=y_train, cv=5)\n",
    "#precision, recall, fscore, _ = metrics.precision_recall_fscore_support(y_train, y_pred)"
   ]
  },
  {
   "cell_type": "code",
   "execution_count": 8,
   "metadata": {},
   "outputs": [
    {
     "name": "stdout",
     "output_type": "stream",
     "text": [
      "              precision    recall  f1-score   support\n",
      "\n",
      "       Cheap       0.66      0.71      0.69      2068\n",
      "   Expensive       0.67      0.71      0.69      1810\n",
      "        Free       0.98      0.84      0.91      1121\n",
      "    Midrange       0.49      0.46      0.48      1664\n",
      "\n",
      "    accuracy                           0.67      6663\n",
      "   macro avg       0.70      0.68      0.69      6663\n",
      "weighted avg       0.68      0.67      0.67      6663\n",
      "\n"
     ]
    }
   ],
   "source": [
    "metrics.confusion_matrix(y_train, y_pred)\n",
    "print(metrics.classification_report(y_train, y_pred))"
   ]
  },
  {
   "cell_type": "code",
   "execution_count": 9,
   "metadata": {},
   "outputs": [
    {
     "data": {
      "text/plain": [
       "0.6704187303016659"
      ]
     },
     "execution_count": 9,
     "metadata": {},
     "output_type": "execute_result"
    }
   ],
   "source": [
    "metrics.accuracy_score(y_train, y_pred, normalize=True, sample_weight=None)"
   ]
  },
  {
   "cell_type": "code",
   "execution_count": 10,
   "metadata": {},
   "outputs": [
    {
     "name": "stdout",
     "output_type": "stream",
     "text": [
      "              precision    recall  f1-score   support\n",
      "\n",
      "       Cheap       0.64      0.74      0.69       479\n",
      "   Expensive       0.68      0.75      0.71       434\n",
      "        Free       0.98      0.83      0.90       309\n",
      "    Midrange       0.56      0.46      0.50       444\n",
      "\n",
      "    accuracy                           0.68      1666\n",
      "   macro avg       0.71      0.69      0.70      1666\n",
      "weighted avg       0.69      0.68      0.68      1666\n",
      "\n"
     ]
    }
   ],
   "source": [
    "from sklearn.ensemble import BaggingClassifier\n",
    "from sklearn.neighbors import KNeighborsClassifier\n",
    "from sklearn import preprocessing\n",
    "from sklearn.ensemble import ExtraTreesClassifier\n",
    "base_clf = RandomForestClassifier(n_estimators=100)\n",
    "#base_clf = DecisionTreeClassifier()\n",
    "#base_clf = KNeighborsClassifier(weights='distance')\n",
    "#X_scaled = preprocessing.MinMaxScaler().fit_transform(X_train)\n",
    "#base_clf = ExtraTreesClassifier(n_estimators=300)\n",
    "#clf = AdaBoostClassifier(base_estimator=base_clf, n_estimators=10,random_state=0).fit(X_train,y_train)\n",
    "clf = RandomForestClassifier(n_estimators=100, random_state=1).fit(X_train,y_train)\n",
    "\n",
    "#X_scaled = preprocessing.MinMaxScaler().fit_transform(X_test)\n",
    "y_pred = clf.predict(X_test)\n",
    "metrics.confusion_matrix(y_test, y_pred)\n",
    "print (metrics.classification_report(y_test, y_pred))"
   ]
  },
  {
   "cell_type": "code",
   "execution_count": 11,
   "metadata": {},
   "outputs": [
    {
     "data": {
      "text/plain": [
       "0.6848739495798319"
      ]
     },
     "execution_count": 11,
     "metadata": {},
     "output_type": "execute_result"
    }
   ],
   "source": [
    "metrics.accuracy_score(y_test, y_pred)"
   ]
  },
  {
   "cell_type": "code",
   "execution_count": 12,
   "metadata": {},
   "outputs": [],
   "source": [
    "#df.loc[df.price == 0, 'price_range'] = 'Free'\n",
    "#df.loc[df.price != 0, 'price_range'] = 'Paid'\n",
    "#df['price_range'].value_counts()"
   ]
  },
  {
   "cell_type": "code",
   "execution_count": 13,
   "metadata": {},
   "outputs": [],
   "source": [
    "#try other classifiers and predictors and compare them in the report"
   ]
  },
  {
   "cell_type": "code",
   "execution_count": 14,
   "metadata": {},
   "outputs": [
    {
     "data": {
      "image/png": "[encoded data removed]",
      "text/plain": [
       "<Figure size 432x288 with 1 Axes>"
      ]
     },
     "metadata": {
      "needs_background": "light"
     },
     "output_type": "display_data"
    }
   ],
   "source": [
    "pred = pd.DataFrame()\n",
    "pred['y_test']=y_test\n",
    "pred['y_pred']=y_pred\n",
    "sns.countplot(x=\"value\", hue=\"variable\", data=pd.melt(pred))\n",
    "#plt.show()\n",
    "#pd.Series(y_pred).value_counts()\n",
    "plt.savefig('images/ypred-ytest-clf.pdf', bbox_inches='tight')"
   ]
  },
  {
   "cell_type": "code",
   "execution_count": 15,
   "metadata": {},
   "outputs": [
    {
     "data": {
      "text/plain": [
       "Cheap        0.305799\n",
       "Expensive    0.269420\n",
       "Midrange     0.253092\n",
       "Free         0.171689\n",
       "Name: price_range, dtype: float64"
      ]
     },
     "execution_count": 15,
     "metadata": {},
     "output_type": "execute_result"
    }
   ],
   "source": [
    "df['price_range'].value_counts()/df['price_range'].value_counts().sum()"
   ]
  },
  {
   "cell_type": "code",
   "execution_count": 16,
   "metadata": {},
   "outputs": [],
   "source": [
    "#Regression with price\n",
    "X = df.drop(['price'],axis=1)\n",
    "y = df.price\n",
    "(X_train, X_test, y_train, y_test) = cv.train_test_split(X, y, test_size=.20, random_state=1)\n",
    "#training = X_train.join(y_train)\n",
    "#testing = X_test.join(y_test)"
   ]
  },
  {
   "cell_type": "code",
   "execution_count": 17,
   "metadata": {},
   "outputs": [
    {
     "data": {
      "text/plain": [
       "0.6125682880263428"
      ]
     },
     "execution_count": 17,
     "metadata": {},
     "output_type": "execute_result"
    }
   ],
   "source": [
    "from sklearn.linear_model import LinearRegression\n",
    "from sklearn.ensemble import RandomForestRegressor\n",
    "from sklearn.ensemble import AdaBoostRegressor\n",
    "from sklearn import metrics\n",
    "from sklearn.svm import SVR\n",
    "#regressor = RandomForestRegressor()\n",
    "regressor = RandomForestRegressor(100, random_state=1)\n",
    "#regressor = SVR()\n",
    "regressor.fit(X_train.select_dtypes(include='number'), y_train)\n",
    "\n",
    "y_pred = regressor.predict(X_test.select_dtypes(include='number'))\n",
    "metrics.r2_score(y_test, y_pred)"
   ]
  },
  {
   "cell_type": "code",
   "execution_count": 18,
   "metadata": {},
   "outputs": [
    {
     "name": "stdout",
     "output_type": "stream",
     "text": [
      "Mean Absolute Error: 3.1257184873949586\n",
      "Mean Squared Error: 24.78235549001201\n",
      "Root Mean Squared Error: 4.97818797254704\n"
     ]
    },
    {
     "data": {
      "text/plain": [
       "0.6125682880263428"
      ]
     },
     "execution_count": 18,
     "metadata": {},
     "output_type": "execute_result"
    }
   ],
   "source": [
    "print('Mean Absolute Error:', metrics.mean_absolute_error(y_test, y_pred))  \n",
    "print('Mean Squared Error:', metrics.mean_squared_error(y_test, y_pred))  \n",
    "print('Root Mean Squared Error:', np.sqrt(metrics.mean_squared_error(y_test, y_pred)))\n",
    "regressor.score(X_test.select_dtypes(include='number'), y_test)"
   ]
  },
  {
   "cell_type": "code",
   "execution_count": 19,
   "metadata": {},
   "outputs": [
    {
     "data": {
      "image/png": "[encoded data removed]",
      "text/plain": [
       "<Figure size 432x288 with 1 Axes>"
      ]
     },
     "metadata": {
      "needs_background": "light"
     },
     "output_type": "display_data"
    }
   ],
   "source": [
    "plt.scatter(y_test, y_pred,  color='gray')\n",
    "sns.regplot(x=y_test,y=y_pred, scatter_kws={\"color\": \"black\",'alpha':0.3}, line_kws={\"color\": \"red\"})\n",
    "#abline(regressor.coef_, regressor.intercept_)\n",
    "#plt.plot(y_test, y_pred, color='red', linewidth=2)\n",
    "plt.savefig('images/ypred-ytest-reg.pdf', bbox_inches='tight')"
   ]
  },
  {
   "cell_type": "code",
   "execution_count": null,
   "metadata": {},
   "outputs": [],
   "source": []
  }
 ],
 "metadata": {
  "kernelspec": {
   "display_name": "Python 3",
   "language": "python",
   "name": "python3"
  },
  "language_info": {
   "codemirror_mode": {
    "name": "ipython",
    "version": 3
   },
   "file_extension": ".py",
   "mimetype": "text/x-python",
   "name": "python",
   "nbconvert_exporter": "python",
   "pygments_lexer": "ipython3",
   "version": "3.6.5"
  }
 },
 "nbformat": 4,
 "nbformat_minor": 2
}
